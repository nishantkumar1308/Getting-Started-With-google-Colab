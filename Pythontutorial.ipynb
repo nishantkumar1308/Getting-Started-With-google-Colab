{
  "nbformat": 4,
  "nbformat_minor": 0,
  "metadata": {
    "colab": {
      "name": "Pythontutorial.ipynb",
      "provenance": [],
      "collapsed_sections": [],
      "authorship_tag": "ABX9TyO7Djg+CIp+E+APje2sWwYy",
      "include_colab_link": true
    },
    "kernelspec": {
      "name": "python3",
      "display_name": "Python 3"
    },
    "language_info": {
      "name": "python"
    }
  },
  "cells": [
    {
      "cell_type": "markdown",
      "metadata": {
        "id": "view-in-github",
        "colab_type": "text"
      },
      "source": [
        "<a href=\"https://colab.research.google.com/github/nishantkumar1308/Getting-Started-With-google-Colab/blob/main/Pythontutorial.ipynb\" target=\"_parent\"><img src=\"https://colab.research.google.com/assets/colab-badge.svg\" alt=\"Open In Colab\"/></a>"
      ]
    },
    {
      "cell_type": "code",
      "source": [
        "print(\"hello\");"
      ],
      "metadata": {
        "id": "uDNuXbSUeBGb",
        "colab": {
          "base_uri": "https://localhost:8080/"
        },
        "outputId": "48e37e51-cc94-4791-e281-5211862306d8"
      },
      "execution_count": null,
      "outputs": [
        {
          "output_type": "stream",
          "name": "stdout",
          "text": [
            "hello\n"
          ]
        }
      ]
    },
    {
      "cell_type": "markdown",
      "source": [
        "Basic printing of Hello wolrd in python."
      ],
      "metadata": {
        "id": "sDLL2Ab1f7EH"
      }
    },
    {
      "cell_type": "code",
      "source": [
        "a=10\n",
        "print(a,end=\" \")\n",
        "print(12)\n",
        "print(12);"
      ],
      "metadata": {
        "colab": {
          "base_uri": "https://localhost:8080/"
        },
        "id": "jHHJd3flgCwR",
        "outputId": "91454fbd-f1e8-43bb-e277-f48614ab4e7f"
      },
      "execution_count": null,
      "outputs": [
        {
          "output_type": "stream",
          "name": "stdout",
          "text": [
            "10 12\n",
            "12\n"
          ]
        }
      ]
    },
    {
      "cell_type": "code",
      "source": [
        "print(a)"
      ],
      "metadata": {
        "colab": {
          "base_uri": "https://localhost:8080/"
        },
        "id": "FTHeUVXxgUd2",
        "outputId": "7c7d8961-213d-400b-bf66-80c1db0cd9b1"
      },
      "execution_count": null,
      "outputs": [
        {
          "output_type": "stream",
          "name": "stdout",
          "text": [
            "10\n"
          ]
        }
      ]
    },
    {
      "cell_type": "code",
      "source": [
        ""
      ],
      "metadata": {
        "id": "kaPlr5esgZb1"
      },
      "execution_count": null,
      "outputs": []
    },
    {
      "cell_type": "markdown",
      "source": [
        "variables in python no need of declaration  by int,char etc.\n",
        "It uses typeof to find the data type in python."
      ],
      "metadata": {
        "id": "5N5ZV3JOg9hq"
      }
    },
    {
      "cell_type": "code",
      "source": [
        "a=10;\n",
        "print(type(a))\n",
        "b=13.5\n",
        "print(type(b));\n",
        "c = 2+3j;\n",
        "print(type(c))\n"
      ],
      "metadata": {
        "colab": {
          "base_uri": "https://localhost:8080/"
        },
        "id": "XMzOkevjhOl7",
        "outputId": "e456963d-93a7-4c2a-d23d-be5b3305f4fc"
      },
      "execution_count": null,
      "outputs": [
        {
          "output_type": "stream",
          "name": "stdout",
          "text": [
            "<class 'int'>\n",
            "<class 'float'>\n",
            "<class 'complex'>\n"
          ]
        }
      ]
    },
    {
      "cell_type": "code",
      "source": [
        "a=25\n",
        "b=4\n",
        "print(a+b)\n",
        "print(a-b)\n",
        "print(a*b)\n",
        "print(a/b)\n",
        "print(a//b)\n",
        "print(a%b)\n",
        "print(a**b)"
      ],
      "metadata": {
        "colab": {
          "base_uri": "https://localhost:8080/"
        },
        "id": "tULa1QF6iToE",
        "outputId": "b65b0b82-a8de-4183-9431-c8a8e9dfcedd"
      },
      "execution_count": null,
      "outputs": [
        {
          "output_type": "stream",
          "name": "stdout",
          "text": [
            "29\n",
            "21\n",
            "100\n",
            "6.25\n",
            "6\n",
            "1\n",
            "390625\n"
          ]
        }
      ]
    },
    {
      "cell_type": "code",
      "source": [
        "a=\"Nishant\"\n",
        "b='Nishant'\n",
        "print(a)\n",
        "print(b)"
      ],
      "metadata": {
        "colab": {
          "base_uri": "https://localhost:8080/"
        },
        "id": "wStubuhUjQUA",
        "outputId": "8565f1ca-c80c-4bb3-9427-b8f50cb6a73c"
      },
      "execution_count": null,
      "outputs": [
        {
          "output_type": "stream",
          "name": "stdout",
          "text": [
            "Nishant\n",
            "Nishant\n"
          ]
        }
      ]
    },
    {
      "cell_type": "markdown",
      "source": [
        "Properties of String...\n",
        "/**String object are immuteable**/\n",
        "you can't assign new char in b/w strings."
      ],
      "metadata": {
        "id": "6wrR2MqxjkLv"
      }
    },
    {
      "cell_type": "code",
      "source": [
        "a=\"Nishant\";\n",
        "print(a)\n",
        "print(len(a))\n",
        "print(type(a))\n",
        "print(a[0])\n",
        "c=\"cat\"\n",
        "d=\"dog\"\n",
        "e=c+d\n",
        "#concatnate string\n",
        "print(e)\n",
        "#functions in strings\n",
        "a=\"apple\"\n",
        "#upper string \n",
        "print(a.upper())\n",
        "#lower char\n",
        "print(a.lower())\n",
        "# strip leading and lagging space \n",
        "p=\"   cdefds   \"\n",
        "print(p.strip())\n",
        "#isalpha()\n",
        "print(p.isalpha())#b/c it contain spaces b/w them\n",
        "print(a.isalpha())"
      ],
      "metadata": {
        "colab": {
          "base_uri": "https://localhost:8080/"
        },
        "id": "PQQL_g_xjsRb",
        "outputId": "e9e24666-9584-4923-b11e-9dcfc1230dcb"
      },
      "execution_count": null,
      "outputs": [
        {
          "output_type": "stream",
          "name": "stdout",
          "text": [
            "Nishant\n",
            "7\n",
            "<class 'str'>\n",
            "N\n",
            "catdog\n",
            "APPLE\n",
            "apple\n",
            "cdefds\n",
            "False\n",
            "True\n"
          ]
        }
      ]
    },
    {
      "cell_type": "code",
      "source": [
        "#user input in python\n",
        "a=input()#by defalut python take input as a stirng\n",
        "print(a)\n",
        "print(type(a))"
      ],
      "metadata": {
        "colab": {
          "base_uri": "https://localhost:8080/"
        },
        "id": "zKZlGmXilxMK",
        "outputId": "8cdf0fb4-f8ef-4e27-a1a7-f4cc8d051164"
      },
      "execution_count": null,
      "outputs": [
        {
          "output_type": "stream",
          "name": "stdout",
          "text": [
            "s\n",
            "s\n",
            "<class 'str'>\n"
          ]
        }
      ]
    },
    {
      "cell_type": "code",
      "source": [
        "#sting slicing\n",
        "n=\"abc\"\n",
        "print(n[0])\n",
        "print(n[1])\n",
        "print(n[2])\n",
        "#reverse number is negative indexing \n",
        "print(n[-1])\n",
        "print(n[-2])\n",
        "print(n[-3])\n",
        "#slicing is substring of string\n",
        "a=\"abcdefghijk\"\n",
        "print(a[1:3])\n",
        "print(a[3:6])\n",
        "print(a[-3:-1])"
      ],
      "metadata": {
        "colab": {
          "base_uri": "https://localhost:8080/"
        },
        "id": "xXyhzKnDmQ3L",
        "outputId": "341618ab-c9ad-4dd9-87a1-58b6aa1d3725"
      },
      "execution_count": null,
      "outputs": [
        {
          "output_type": "stream",
          "name": "stdout",
          "text": [
            "a\n",
            "b\n",
            "c\n",
            "c\n",
            "b\n",
            "a\n",
            "bc\n",
            "def\n",
            "ij\n"
          ]
        }
      ]
    },
    {
      "cell_type": "markdown",
      "source": [
        "Tuples in pyton where you have multiple things togather "
      ],
      "metadata": {
        "id": "Cov3CeAEnjnr"
      }
    },
    {
      "cell_type": "code",
      "source": [
        "t=(1,3,3)\n",
        "type(t)\n"
      ],
      "metadata": {
        "id": "RtYfeHTQnqm_",
        "colab": {
          "base_uri": "https://localhost:8080/"
        },
        "outputId": "b1fb149b-4449-4887-8861-691dbcea0002"
      },
      "execution_count": null,
      "outputs": [
        {
          "output_type": "execute_result",
          "data": {
            "text/plain": [
              "tuple"
            ]
          },
          "metadata": {},
          "execution_count": 50
        }
      ]
    },
    {
      "cell_type": "markdown",
      "source": [
        "Boolean/LOOPS/conditionals\n"
      ],
      "metadata": {
        "id": "CIp1TuLRDxhI"
      }
    },
    {
      "cell_type": "code",
      "source": [
        "a=True\n",
        "print(a)\n",
        "#rlational operators\n",
        "x=10\n",
        "y=20\n",
        "print(x>y)\n",
        "print(x==y)\n",
        "print(x<y)\n",
        "print(x!=y)\n"
      ],
      "metadata": {
        "colab": {
          "base_uri": "https://localhost:8080/"
        },
        "id": "nS3gJyBVD5iY",
        "outputId": "c75dc303-4949-43e7-e0af-a95e4d43ff5e"
      },
      "execution_count": 5,
      "outputs": [
        {
          "output_type": "stream",
          "name": "stdout",
          "text": [
            "True\n",
            "False\n",
            "False\n",
            "True\n",
            "True\n"
          ]
        }
      ]
    },
    {
      "cell_type": "code",
      "source": [
        "#if else conditional value\n",
        "#indentation mandatory\n",
        "if x>y:\n",
        "  print(x)\n",
        "else:\n",
        "  print(y)\n",
        "  print(\"vsy\")\n",
        " "
      ],
      "metadata": {
        "colab": {
          "base_uri": "https://localhost:8080/"
        },
        "id": "2VThqKGuEh00",
        "outputId": "bae2fe0d-7f29-49a3-8627-584b551f4e59"
      },
      "execution_count": 7,
      "outputs": [
        {
          "output_type": "stream",
          "name": "stdout",
          "text": [
            "20\n",
            "vsy\n"
          ]
        }
      ]
    }
  ]
}